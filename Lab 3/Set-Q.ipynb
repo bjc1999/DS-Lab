{
 "cells": [
  {
   "cell_type": "markdown",
   "id": "fifth-pittsburgh",
   "metadata": {},
   "source": [
    "## Set\n",
    "A set is a well-defined collection of distinct objects. The objects that make up a set (also known as \n",
    "the set's elements or members) can be anything: numbers, people, letters of the alphabet, other \n",
    "sets, and so on.\n",
    "\n",
    "You are assigned to create a generic Set class using Arraylist implementation.\n"
   ]
  },
  {
   "cell_type": "markdown",
   "id": "occupational-footwear",
   "metadata": {},
   "source": [
    "### Q1: \n",
    "\n",
    "Create a generic class called Set with following attributes and methods:\n",
    "- A **generic type Arraylist attribute** that store elements of set\n",
    "- A constructor, **Set(array of elements)** that initialize Arraylist attribute\n",
    "- A method, **union(set)** that return a new set contains all elements in this set OR in another set\n",
    "- A method, **intersection(set)** that return a new set contains all elements in this set AND in another set\n",
    "- A method, **complement(set)** that return a new set contains all elements in this set BUT NOT in another set\n",
    "- A method, **isSubset(set)** that return a boolean whether this set is proper subset of another set\n",
    "- A method, **cardinality()** that return number of elements in this set\n",
    "- A method, **toString()** that return string that shows all elements in this set\n",
    "\n",
    "Some recaps:\n",
    "- Let Set A = {1, 2, 2, 3} and Set B = {1, 3, 5, 8}\n",
    "- Set does not contain duplicate element. Thus, Set A = {1, 2, 2, 3} = {1, 2, 3}.\n",
    "- Set A union Set B should yield {1, 2, 3, 5, 8}.\n",
    "- Set A intersect Set B should yield {1, 3}.\n",
    "- Set A complement Set B should yield {2}.\n",
    "- Set A is a subset of Set B if and only if all elements in Set A are also in Set B but Set A ≠ Set B (proper subset).\n",
    "\n",
    "Create a Tester class and test your program with following output:\n",
    "```\n",
    "Set A: {1, 2, 3, 4, 5, 6}\n",
    "Set B: {1, 2, 5, 9, 13}\n",
    "Set C: {1, 2, 5, 9, 13, 14}\n",
    "Set E: {1, 2, 3}\n",
    "Set F: {1, 8, 13, 24, 78}\n",
    "Set A union Set B: {1, 2, 3, 4, 5, 6, 9, 13}\n",
    "Set A intersect Set B: {1, 2, 5}\n",
    "Set A complement Set B: {3, 4, 6}\n",
    "Is Set B subset of Set C? true\n",
    "Is Set B subset of Set D? false\n",
    "Is Set B subset of Set E? false\n",
    "```"
   ]
  },
  {
   "cell_type": "code",
   "execution_count": 1,
   "id": "typical-holmes",
   "metadata": {},
   "outputs": [],
   "source": [
    "// include all imports here\n"
   ]
  },
  {
   "cell_type": "code",
   "execution_count": 2,
   "id": "happy-isolation",
   "metadata": {},
   "outputs": [],
   "source": [
    "public class Set{\n",
    "    // your implementations here\n",
    "}"
   ]
  },
  {
   "cell_type": "code",
   "execution_count": 3,
   "id": "mexican-howard",
   "metadata": {},
   "outputs": [
    {
     "name": "stdout",
     "output_type": "stream",
     "text": [
      "Set A: {1, 2, 3, 4, 5, 6}\n",
      "Set B: {1, 2, 5, 9, 13}\n",
      "Set C: {1, 2, 5, 9, 13, 14}\n",
      "Set E: {1, 2, 3}\n",
      "Set F: {1, 8, 13, 24, 78}\n",
      "Set A union Set B: {1, 2, 3, 4, 5, 6, 9, 13}\n",
      "Set A intersect Set B: {1, 2, 5}\n",
      "Set A complement Set B: {3, 4, 6}\n",
      "Is Set B subset of Set C? true\n",
      "Is Set B subset of Set D? false\n",
      "Is Set B subset of Set E? false\n"
     ]
    }
   ],
   "source": [
    "// Create arrays of Integer\n",
    "Integer[] el = {1, 2, 3, 3, 4, 5, 6, 6};\n",
    "Integer[] el2 = {1, 2, 5, 9, 13};\n",
    "Integer[] el3 = {1, 2, 5, 9, 13, 14};\n",
    "Integer[] el4 = {1, 2, 3};\n",
    "Integer[] el5 = {1, 8, 13, 24, 78};\n",
    "\n",
    "// Create set using arrays initialized above\n",
    "Set<Integer> setA = new Set(el);\n",
    "Set<Integer> setB = new Set(el2);\n",
    "Set<Integer> setC = new Set(el3);\n",
    "Set<Integer> setD = new Set(el2);\n",
    "Set<Integer> setE = new Set(el4);\n",
    "Set<Integer> setF = new Set(el5);\n",
    "\n",
    "// Print out all sets\n",
    "System.out.println(\"Set A: \"+setA);\n",
    "System.out.println(\"Set B: \"+setB);\n",
    "System.out.println(\"Set C: \"+setC);\n",
    "System.out.println(\"Set E: \"+setE);\n",
    "System.out.println(\"Set F: \"+setF);\n",
    "\n",
    "// set A union set B\n",
    "Set<Integer> AunionB = setA.union(setB);\n",
    "System.out.println(\"Set A union Set B: \"+AunionB);\n",
    "\n",
    "// set A intersect set B\n",
    "Set<Integer> AintersectB = setA.intersect(setB);\n",
    "System.out.println(\"Set A intersect Set B: \"+AintersectB);\n",
    "\n",
    "// set A complement set B\n",
    "Set<Integer> AcomplementB = setA.complement(setB);\n",
    "System.out.println(\"Set A complement Set B: \"+AcomplementB);\n",
    "\n",
    "// check if set B is subset of set C, D and E\n",
    "System.out.println(\"Is Set B subset of Set C? \"+setB.isSubset(setC));\n",
    "System.out.println(\"Is Set B subset of Set D? \"+setB.isSubset(setD));\n",
    "System.out.println(\"Is Set B subset of Set E? \"+setB.isSubset(setE));"
   ]
  },
  {
   "cell_type": "markdown",
   "id": "excited-latest",
   "metadata": {},
   "source": [
    "### Q2:\n",
    "The power set of a set S is the set of all subsets of S. The power set contains S itself and the empty set because these are both subsets of S. \n",
    "\n",
    "For example, the power set of the set {1, 2, 3} is {{1, 2, 3}, {1, 2}, {1, 3}, {2, 3}, {1}, {2}, {3}, ∅}. The power set of a set S is usually written as P(S).  \n",
    "\n",
    "Create a static method, named **PowerSet(set)** in Tester class to return a new set contains all power sets of the set passed in as argument.  \n",
    "\n",
    "Then, test PowerSet(set) method in Tester class using Set E and Set B.\n",
    "\n",
    "```\n",
    "Set E: {1, 2, 3}\n",
    "P(S) of Set E: {{ }, {1}, {2}, {3}, {1, 2}, {1, 3}, {2, 3}, {1, 2, 3}}\n",
    "\n",
    "\n",
    "Set B: {1, 2, 5, 9, 13}\n",
    "P(S) of Set B: {{ }, {1}, {2}, {5}, {9}, {13}, {1, 2}, {1, 5}, {2, 5}, {1, 9}, {2, 9}, {5, 9}, {1, 13}, {2, 13}, {5, 13}, {9, 13}, {1, 2, 5}, {1, 2, 9}, {1, 5, 9}, {2, 5, 9}, {1, 2, 13}, {1, 5, 13}, {2, 5, 13}, {1, 9, 13}, {2, 9, 13}, {5, 9, 13}, {1, 2, 5, 9}, {1, 2, 5, 13}, {1, 2, 9, 13}, {1, 5, 9, 13}, {2, 5, 9, 13}, {1, 2, 5, 9, 13}}\n",
    "```"
   ]
  },
  {
   "cell_type": "code",
   "execution_count": 4,
   "id": "undefined-sensitivity",
   "metadata": {},
   "outputs": [],
   "source": [
    "// PowerSet(set) method here\n"
   ]
  },
  {
   "cell_type": "code",
   "execution_count": 5,
   "id": "portable-bouquet",
   "metadata": {},
   "outputs": [
    {
     "name": "stdout",
     "output_type": "stream",
     "text": [
      "Set E: {1, 2, 3}\n",
      "P(S) of Set E: {{ }, {1}, {2}, {3}, {1, 2}, {1, 3}, {2, 3}, {1, 2, 3}}\n",
      "\n",
      "\n",
      "Set B: {1, 2, 5, 9, 13}\n",
      "P(S) of Set B: {{ }, {1}, {2}, {5}, {9}, {13}, {1, 2}, {1, 5}, {2, 5}, {1, 9}, {2, 9}, {5, 9}, {1, 13}, {2, 13}, {5, 13}, {9, 13}, {1, 2, 5}, {1, 2, 9}, {1, 5, 9}, {2, 5, 9}, {1, 2, 13}, {1, 5, 13}, {2, 5, 13}, {1, 9, 13}, {2, 9, 13}, {5, 9, 13}, {1, 2, 5, 9}, {1, 2, 5, 13}, {1, 2, 9, 13}, {1, 5, 9, 13}, {2, 5, 9, 13}, {1, 2, 5, 9, 13}}\n"
     ]
    }
   ],
   "source": [
    "// Power sets of set E\n",
    "System.out.println(\"Set E: \"+setE);\n",
    "Set<Set> powerSetE = PowerSet(setE);\n",
    "System.out.println(\"P(S) of Set E: \"+powerSetE);\n",
    "\n",
    "// Power sets of set B\n",
    "System.out.println(\"\\n\\nSet B: \"+setB);\n",
    "Set<Set> powerSetB = PowerSet(setB);\n",
    "System.out.println(\"P(S) of Set B: \"+powerSetB);"
   ]
  },
  {
   "cell_type": "markdown",
   "id": "european-south",
   "metadata": {},
   "source": [
    "### Q3:\n",
    "**Inclusion–exclusion principle**  \n",
    "In combinatorics (combinatorial mathematics), the inclusion–exclusion principle is a counting technique which generalizes the familiar method of obtaining the number of elements in the union of two finite sets; symbolically expressed as:  \n",
    "> |𝐴 ∪ 𝐵| = |𝐴| + |𝐵| − |𝐴 ∩ 𝐵|  \n",
    "\n",
    "The principle is more clearly seen in the case of three sets, which for the sets A, B and C is given by  \n",
    "\n",
    "> |𝐴 ∪ 𝐵 ∪ 𝐶| = |𝐴| + |𝐵| + |𝐶| − |𝐴 ∩ 𝐵| − |𝐴 ∩ 𝐶| − |𝐵 ∩ 𝐶| + |𝐴 ∩ 𝐵 ∩ 𝐶|`  \n",
    "\n",
    "Generalizing the results of these examples gives the principle of inclusion–exclusion. To find the \n",
    "cardinality of the union of n sets:  \n",
    "1. Include the cardinalities of the sets.\n",
    "2. Exclude the cardinalities of the pairwise intersections.\n",
    "3. Include the cardinalities of the triple-wise intersections.\n",
    "4. Exclude the cardinalities of the quadruple-wise intersections.\n",
    "5. Include the cardinalities of the quintuple-wise intersections.\n",
    "6. Continue, until the cardinality of the n-tuple-wise intersection is included (if n is odd) or excluded (n even).\n",
    "\n",
    "Using inclusion–exclusion principle, create a static method, named **TotalElements(array of n Sets)** in Tester class to **print** out principle formula (refer sample output) and **return** cardinality of the union of n sets in the array.  \n",
    "*(Note: Algorithm using union method created in Q1 is prohibited)*\n",
    "\n",
    "Then, suppose we have a Set S = all natural numbers below 500 and it have subsets of Set W, Set X, Set Y and Set Z. Set W = all odd numbers, Set X = all prime numbers, Set Y = all perfect square numbers and Set Z = all multiples of 7.\n",
    "\n",
    "Test TotalElements method using Set W, Set X, Set Y and Set Z in Tester class.\n",
    "\n",
    "```\n",
    "Union of all sets = {1, 3, 5, 7, 9, 11, 13, 15, 17, 19, 21, 23, 25, 27, 29, 31, 33, 35, 37, 39, 41, 43, 45, 47, 49, 51, 53, 55, 57, 59, 61, 63, 65, 67, 69, 71, 73, 75, 77, 79, 81, 83, 85, 87, 89, 91, 93, 95, 97, 99, 101, 103, 105, 107, 109, 111, 113, 115, 117, 119, 121, 123, 125, 127, 129, 131, 133, 135, 137, 139, 141, 143, 145, 147, 149, 151, 153, 155, 157, 159, 161, 163, 165, 167, 169, 171, 173, 175, 177, 179, 181, 183, 185, 187, 189, 191, 193, 195, 197, 199, 201, 203, 205, 207, 209, 211, 213, 215, 217, 219, 221, 223, 225, 227, 229, 231, 233, 235, 237, 239, 241, 243, 245, 247, 249, 251, 253, 255, 257, 259, 261, 263, 265, 267, 269, 271, 273, 275, 277, 279, 281, 283, 285, 287, 289, 291, 293, 295, 297, 299, 301, 303, 305, 307, 309, 311, 313, 315, 317, 319, 321, 323, 325, 327, 329, 331, 333, 335, 337, 339, 341, 343, 345, 347, 349, 351, 353, 355, 357, 359, 361, 363, 365, 367, 369, 371, 373, 375, 377, 379, 381, 383, 385, 387, 389, 391, 393, 395, 397, 399, 401, 403, 405, 407, 409, 411, 413, 415, 417, 419, 421, 423, 425, 427, 429, 431, 433, 435, 437, 439, 441, 443, 445, 447, 449, 451, 453, 455, 457, 459, 461, 463, 465, 467, 469, 471, 473, 475, 477, 479, 481, 483, 485, 487, 489, 491, 493, 495, 497, 499} + {2, 3, 5, 7, 11, 13, 17, 19, 23, 29, 31, 37, 41, 43, 47, 53, 59, 61, 67, 71, 73, 79, 83, 89, 97, 101, 103, 107, 109, 113, 127, 131, 137, 139, 149, 151, 157, 163, 167, 173, 179, 181, 191, 193, 197, 199, 211, 223, 227, 229, 233, 239, 241, 251, 257, 263, 269, 271, 277, 281, 283, 293, 307, 311, 313, 317, 331, 337, 347, 349, 353, 359, 367, 373, 379, 383, 389, 397, 401, 409, 419, 421, 431, 433, 439, 443, 449, 457, 461, 463, 467, 479, 487, 491, 499} + {1, 4, 9, 16, 25, 36, 49, 64, 81, 100, 121, 144, 169, 196, 225, 256, 289, 324, 361, 400, 441, 484} + {7, 14, 21, 28, 35, 42, 49, 56, 63, 70, 77, 84, 91, 98, 105, 112, 119, 126, 133, 140, 147, 154, 161, 168, 175, 182, 189, 196, 203, 210, 217, 224, 231, 238, 245, 252, 259, 266, 273, 280, 287, 294, 301, 308, 315, 322, 329, 336, 343, 350, 357, 364, 371, 378, 385, 392, 399, 406, 413, 420, 427, 434, 441, 448, 455, 462, 469, 476, 483, 490, 497} - {3, 5, 7, 11, 13, 17, 19, 23, 29, 31, 37, 41, 43, 47, 53, 59, 61, 67, 71, 73, 79, 83, 89, 97, 101, 103, 107, 109, 113, 127, 131, 137, 139, 149, 151, 157, 163, 167, 173, 179, 181, 191, 193, 197, 199, 211, 223, 227, 229, 233, 239, 241, 251, 257, 263, 269, 271, 277, 281, 283, 293, 307, 311, 313, 317, 331, 337, 347, 349, 353, 359, 367, 373, 379, 383, 389, 397, 401, 409, 419, 421, 431, 433, 439, 443, 449, 457, 461, 463, 467, 479, 487, 491, 499} - {1, 9, 25, 49, 81, 121, 169, 225, 289, 361, 441} - { } - {7, 21, 35, 49, 63, 77, 91, 105, 119, 133, 147, 161, 175, 189, 203, 217, 231, 245, 259, 273, 287, 301, 315, 329, 343, 357, 371, 385, 399, 413, 427, 441, 455, 469, 483, 497} - {7} - {49, 196, 441} + { } + {7} + {49, 441} + { } - { } \n",
    "\n",
    "The total elements between Set W, X, Y and Z: \n",
    "296 elements\n",
    "```"
   ]
  },
  {
   "cell_type": "code",
   "execution_count": 6,
   "id": "intensive-apollo",
   "metadata": {},
   "outputs": [],
   "source": [
    "// TotalElements(sets) method here\n"
   ]
  },
  {
   "cell_type": "code",
   "execution_count": 7,
   "id": "fiscal-spirit",
   "metadata": {},
   "outputs": [
    {
     "name": "stdout",
     "output_type": "stream",
     "text": [
      "Union of all sets = {1, 3, 5, 7, 9, 11, 13, 15, 17, 19, 21, 23, 25, 27, 29, 31, 33, 35, 37, 39, 41, 43, 45, 47, 49, 51, 53, 55, 57, 59, 61, 63, 65, 67, 69, 71, 73, 75, 77, 79, 81, 83, 85, 87, 89, 91, 93, 95, 97, 99, 101, 103, 105, 107, 109, 111, 113, 115, 117, 119, 121, 123, 125, 127, 129, 131, 133, 135, 137, 139, 141, 143, 145, 147, 149, 151, 153, 155, 157, 159, 161, 163, 165, 167, 169, 171, 173, 175, 177, 179, 181, 183, 185, 187, 189, 191, 193, 195, 197, 199, 201, 203, 205, 207, 209, 211, 213, 215, 217, 219, 221, 223, 225, 227, 229, 231, 233, 235, 237, 239, 241, 243, 245, 247, 249, 251, 253, 255, 257, 259, 261, 263, 265, 267, 269, 271, 273, 275, 277, 279, 281, 283, 285, 287, 289, 291, 293, 295, 297, 299, 301, 303, 305, 307, 309, 311, 313, 315, 317, 319, 321, 323, 325, 327, 329, 331, 333, 335, 337, 339, 341, 343, 345, 347, 349, 351, 353, 355, 357, 359, 361, 363, 365, 367, 369, 371, 373, 375, 377, 379, 381, 383, 385, 387, 389, 391, 393, 395, 397, 399, 401, 403, 405, 407, 409, 411, 413, 415, 417, 419, 421, 423, 425, 427, 429, 431, 433, 435, 437, 439, 441, 443, 445, 447, 449, 451, 453, 455, 457, 459, 461, 463, 465, 467, 469, 471, 473, 475, 477, 479, 481, 483, 485, 487, 489, 491, 493, 495, 497, 499} + {2, 3, 5, 7, 11, 13, 17, 19, 23, 29, 31, 37, 41, 43, 47, 53, 59, 61, 67, 71, 73, 79, 83, 89, 97, 101, 103, 107, 109, 113, 127, 131, 137, 139, 149, 151, 157, 163, 167, 173, 179, 181, 191, 193, 197, 199, 211, 223, 227, 229, 233, 239, 241, 251, 257, 263, 269, 271, 277, 281, 283, 293, 307, 311, 313, 317, 331, 337, 347, 349, 353, 359, 367, 373, 379, 383, 389, 397, 401, 409, 419, 421, 431, 433, 439, 443, 449, 457, 461, 463, 467, 479, 487, 491, 499} + {1, 4, 9, 16, 25, 36, 49, 64, 81, 100, 121, 144, 169, 196, 225, 256, 289, 324, 361, 400, 441, 484} + {7, 14, 21, 28, 35, 42, 49, 56, 63, 70, 77, 84, 91, 98, 105, 112, 119, 126, 133, 140, 147, 154, 161, 168, 175, 182, 189, 196, 203, 210, 217, 224, 231, 238, 245, 252, 259, 266, 273, 280, 287, 294, 301, 308, 315, 322, 329, 336, 343, 350, 357, 364, 371, 378, 385, 392, 399, 406, 413, 420, 427, 434, 441, 448, 455, 462, 469, 476, 483, 490, 497} - {3, 5, 7, 11, 13, 17, 19, 23, 29, 31, 37, 41, 43, 47, 53, 59, 61, 67, 71, 73, 79, 83, 89, 97, 101, 103, 107, 109, 113, 127, 131, 137, 139, 149, 151, 157, 163, 167, 173, 179, 181, 191, 193, 197, 199, 211, 223, 227, 229, 233, 239, 241, 251, 257, 263, 269, 271, 277, 281, 283, 293, 307, 311, 313, 317, 331, 337, 347, 349, 353, 359, 367, 373, 379, 383, 389, 397, 401, 409, 419, 421, 431, 433, 439, 443, 449, 457, 461, 463, 467, 479, 487, 491, 499} - {1, 9, 25, 49, 81, 121, 169, 225, 289, 361, 441} - { } - {7, 21, 35, 49, 63, 77, 91, 105, 119, 133, 147, 161, 175, 189, 203, 217, 231, 245, 259, 273, 287, 301, 315, 329, 343, 357, 371, 385, 399, 413, 427, 441, 455, 469, 483, 497} - {7} - {49, 196, 441} + { } + {7} + {49, 441} + { } - { } \n",
      "\n",
      "The total elements between Set W, X, Y and Z: \n",
      "296 elements\n"
     ]
    }
   ],
   "source": [
    "// Initialized set W, X, Y, Z\n",
    "ArrayList<Integer> odd = new ArrayList();\n",
    "ArrayList<Integer> prime = new ArrayList();\n",
    "ArrayList<Integer> perfectSquare = new ArrayList();\n",
    "ArrayList<Integer> sevenMultiple = new ArrayList();\n",
    "\n",
    "int factor;\n",
    "for(int i=1; i<=500; i++){\n",
    "    if(i%2==1)\n",
    "        odd.add(i);\n",
    "\n",
    "    factor = 0;\n",
    "    for(int j=2; j<=i/2; j++){\n",
    "        if(i%j==0)\n",
    "            factor++;\n",
    "    }\n",
    "    if(factor==0 && i!=1)\n",
    "        prime.add(i);\n",
    "\n",
    "    if((Math.pow((int)Math.sqrt(i), 2))==i)\n",
    "        perfectSquare.add(i);\n",
    "\n",
    "    if(i%7==0)\n",
    "        sevenMultiple.add(i);\n",
    "}\n",
    "\n",
    "Set<Integer> oddSet = new Set(odd.toArray());\n",
    "Set<Integer> primeSet = new Set(prime.toArray());\n",
    "Set<Integer> perfectSquareSet = new Set(perfectSquare.toArray());\n",
    "Set<Integer> sevenMultipleSet = new Set(sevenMultiple.toArray());\n",
    "\n",
    "// Print out formula of inclusion-exclusion principle of union of set W, X, Y, Z\n",
    "Set[] sets = {oddSet, primeSet, perfectSquareSet, sevenMultipleSet};\n",
    "int num = TotalElements(sets);\n",
    "System.out.println(\"\\nThe total elements between Set W, X, Y and Z: \");\n",
    "System.out.println(num+\" elements\");"
   ]
  },
  {
   "cell_type": "markdown",
   "id": "occupational-score",
   "metadata": {},
   "source": [
    "### Q4:\n",
    "A partition of a set S is a set of nonempty subsets of S such that every element x in S is in exactly one of these subsets. That is, the subsets are pairwise disjoint (meaning any two sets of the partition contain no element in common), and the union of all the subsets of the partition is S.\n",
    "\n",
    "Some explanations on partitions *(if you knew, then skip)*:  \n",
    "- The set { 1, 2, 3 } has these five partitions (one partition per item):\n",
    "    - { {1}, {2}, {3} }, sometimes written 1|2|3.\n",
    "    - { {1, 2}, {3} }, or 12|3.\n",
    "    - { {1, 3}, {2} }, or 13|2.\n",
    "    - { {1}, {2, 3} }, or 1|23.\n",
    "    - { {1, 2, 3} }, or 123 (in contexts where there will be no confusion with the number).\n",
    "    \n",
    "- The following are not partitions of { 1, 2, 3 }:\n",
    "    - { {}, {1, 3}, {2} } is not a partition (of any set) because one of its elements is the empty set.\n",
    "    - { {1, 2}, {2, 3} } is not a partition (of any set) because the element 2 is contained in more than one block.\n",
    "    - { {1}, {2} } is not a partition of {1, 2, 3} because none of its blocks contains 3; however, it is a partition of {1, 2}.\n",
    "    \n",
    "Create a static method, named **Partitions(aSet)** in Tester class to return a new Set contains all partitions of the set passed in as argument.   \n",
    "Test Partitions method using Set A intersect Set B and Set B in Tester class.\n",
    "\n",
    "```\n",
    "Partitions of Set A intersect Set B\n",
    "{{{1, 2, 5}}, {{1}, {2, 5}}, {{2}, {1, 5}}, {{1, 2}, {5}}, {{1}, {2}, {5}}}\n",
    "\n",
    "Partitions of Set B\n",
    "{{{1, 2, 5, 9, 13}}, {{1}, {2, 5, 9, 13}}, {{2}, {1, 5, 9, 13}}, {{1, 2}, {5, 9, 13}}, {{5}, {1, 2, 9, 13}}, {{1, 5}, {2, 9, 13}}, {{2, 5}, {1, 9, 13}}, {{1, 2, 5}, {9, 13}}, {{9}, {1, 2, 5, 13}}, {{1, 9}, {2, 5, 13}}, {{2, 9}, {1, 5, 13}}, {{1, 2, 9}, {5, 13}}, {{5, 9}, {1, 2, 13}}, {{1, 5, 9}, {2, 13}}, {{2, 5, 9}, {1, 13}}, {{1, 2, 5, 9}, {13}}, {{1}, {2}, {5, 9, 13}}, {{1}, {5}, {2, 9, 13}}, {{1}, {2, 5}, {9, 13}}, {{2}, {5}, {1, 9, 13}}, {{2}, {1, 5}, {9, 13}}, {{1, 2}, {5}, {9, 13}}, {{1}, {9}, {2, 5, 13}}, {{1}, {2, 9}, {5, 13}}, {{2}, {9}, {1, 5, 13}}, {{2}, {1, 9}, {5, 13}}, {{1, 2}, {9}, {5, 13}}, {{1}, {5, 9}, {2, 13}}, {{1}, {2, 5, 9}, {13}}, {{2}, {5, 9}, {1, 13}}, {{2}, {1, 5, 9}, {13}}, {{1, 2}, {5, 9}, {13}}, {{5}, {9}, {1, 2, 13}}, {{5}, {1, 9}, {2, 13}}, {{1, 5}, {9}, {2, 13}}, {{5}, {2, 9}, {1, 13}}, {{5}, {1, 2, 9}, {13}}, {{1, 5}, {2, 9}, {13}}, {{2, 5}, {9}, {1, 13}}, {{2, 5}, {1, 9}, {13}}, {{1, 2, 5}, {9}, {13}}, {{1}, {2}, {5}, {9, 13}}, {{1}, {2}, {9}, {5, 13}}, {{1}, {2}, {5, 9}, {13}}, {{1}, {5}, {9}, {2, 13}}, {{1}, {2, 5}, {9}, {13}}, {{2}, {5}, {9}, {1, 13}}, {{2}, {5}, {1, 9}, {13}}, {{2}, {1, 5}, {9}, {13}}, {{1, 2}, {5}, {9}, {13}}, {{1}, {2}, {5}, {9}, {13}}}\n",
    "```"
   ]
  },
  {
   "cell_type": "code",
   "execution_count": 8,
   "id": "meaningful-concrete",
   "metadata": {},
   "outputs": [],
   "source": [
    "// Partitions(set) method here\n"
   ]
  },
  {
   "cell_type": "code",
   "execution_count": 9,
   "id": "auburn-correction",
   "metadata": {},
   "outputs": [
    {
     "name": "stdout",
     "output_type": "stream",
     "text": [
      "Partitions of Set A intersect Set B\n",
      "{{{1, 2, 5}}, {{1}, {2, 5}}, {{2}, {1, 5}}, {{1, 2}, {5}}, {{1}, {2}, {5}}}\n",
      "\n",
      "Partitions of Set B\n",
      "{{{1, 2, 5, 9, 13}}, {{1}, {2, 5, 9, 13}}, {{2}, {1, 5, 9, 13}}, {{1, 2}, {5, 9, 13}}, {{5}, {1, 2, 9, 13}}, {{1, 5}, {2, 9, 13}}, {{2, 5}, {1, 9, 13}}, {{1, 2, 5}, {9, 13}}, {{9}, {1, 2, 5, 13}}, {{1, 9}, {2, 5, 13}}, {{2, 9}, {1, 5, 13}}, {{1, 2, 9}, {5, 13}}, {{5, 9}, {1, 2, 13}}, {{1, 5, 9}, {2, 13}}, {{2, 5, 9}, {1, 13}}, {{1, 2, 5, 9}, {13}}, {{1}, {2}, {5, 9, 13}}, {{1}, {5}, {2, 9, 13}}, {{1}, {2, 5}, {9, 13}}, {{2}, {5}, {1, 9, 13}}, {{2}, {1, 5}, {9, 13}}, {{1, 2}, {5}, {9, 13}}, {{1}, {9}, {2, 5, 13}}, {{1}, {2, 9}, {5, 13}}, {{2}, {9}, {1, 5, 13}}, {{2}, {1, 9}, {5, 13}}, {{1, 2}, {9}, {5, 13}}, {{1}, {5, 9}, {2, 13}}, {{1}, {2, 5, 9}, {13}}, {{2}, {5, 9}, {1, 13}}, {{2}, {1, 5, 9}, {13}}, {{1, 2}, {5, 9}, {13}}, {{5}, {9}, {1, 2, 13}}, {{5}, {1, 9}, {2, 13}}, {{1, 5}, {9}, {2, 13}}, {{5}, {2, 9}, {1, 13}}, {{5}, {1, 2, 9}, {13}}, {{1, 5}, {2, 9}, {13}}, {{2, 5}, {9}, {1, 13}}, {{2, 5}, {1, 9}, {13}}, {{1, 2, 5}, {9}, {13}}, {{1}, {2}, {5}, {9, 13}}, {{1}, {2}, {9}, {5, 13}}, {{1}, {2}, {5, 9}, {13}}, {{1}, {5}, {9}, {2, 13}}, {{1}, {2, 5}, {9}, {13}}, {{2}, {5}, {9}, {1, 13}}, {{2}, {5}, {1, 9}, {13}}, {{2}, {1, 5}, {9}, {13}}, {{1, 2}, {5}, {9}, {13}}, {{1}, {2}, {5}, {9}, {13}}}\n"
     ]
    }
   ],
   "source": [
    "// Partition of set E\n",
    "Set<Set> partitionsOfE = Partitions(AintersectB);\n",
    "System.out.println(\"Partitions of Set A intersect Set B\");\n",
    "System.out.println(partitionsOfE);\n",
    "\n",
    "System.out.println(\"\");\n",
    "\n",
    "// Partition of set B\n",
    "Set<Set> partitionsOfB = Partitions(setB);\n",
    "System.out.println(\"Partitions of Set B\");\n",
    "System.out.println(partitionsOfB);"
   ]
  },
  {
   "cell_type": "code",
   "execution_count": null,
   "id": "technical-device",
   "metadata": {},
   "outputs": [],
   "source": []
  }
 ],
 "metadata": {
  "kernelspec": {
   "display_name": "Java",
   "language": "java",
   "name": "java"
  },
  "language_info": {
   "codemirror_mode": "java",
   "file_extension": ".jshell",
   "mimetype": "text/x-java-source",
   "name": "Java",
   "pygments_lexer": "java",
   "version": "11.0.9+11"
  }
 },
 "nbformat": 4,
 "nbformat_minor": 5
}
