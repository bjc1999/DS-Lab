{
 "cells": [
  {
   "cell_type": "markdown",
   "id": "perceived-provider",
   "metadata": {},
   "source": [
    "### Question:\n",
    "Create a class that used to generate N number of **non-duplicate** integer in between 0 – 100.  \n",
    "The class must display the number in **sorted list**.  \n",
    "The class must be **generic to support array and linked-list (or any other data structure as you like to implement) implementation**.  \n",
    "Example output:\n",
    "```\n",
    "Generate 20 non-duplicate integer within 0-100\n",
    "Linked List Implementation\n",
    "0 10 14 18 27 31 35 43 49 50 52 54 55 61 67 76 81 84 97 100\n",
    "Array Implementation\n",
    "1 5 6 15 17 20 33 39 44 47 49 52 53 69 74 78 82 85 96 98\n",
    "```\n",
    "*Credit to: AP. Ang (19/20 Lab2 Q1)*"
   ]
  },
  {
   "cell_type": "markdown",
   "id": "middle-court",
   "metadata": {},
   "source": [
    "### Answer:\n",
    "**Importation**  \n",
    "Import all neccessary packages"
   ]
  },
  {
   "cell_type": "code",
   "execution_count": 1,
   "id": "pleased-questionnaire",
   "metadata": {},
   "outputs": [],
   "source": [
    "// import all required packages here\n"
   ]
  },
  {
   "cell_type": "markdown",
   "id": "practical-mystery",
   "metadata": {},
   "source": [
    "**RandomGenerator Class**\n",
    "1. A template of this class is given to you for implementing the logic.  \n",
    "2. Please have a look on next part: **Tester Class** explanations to have more idea on how to implement this.\n",
    "\n",
    "*Hints: Find how to detect the real type of generic type in run time.*"
   ]
  },
  {
   "cell_type": "code",
   "execution_count": 4,
   "id": "incorrect-sequence",
   "metadata": {},
   "outputs": [],
   "source": [
    "public class RandomGenerator<T> {\n",
    "    // Implements your code here\n",
    "    public RandomGenerator(T list, int N){\n",
    "        \n",
    "    }\n",
    "}"
   ]
  },
  {
   "cell_type": "markdown",
   "id": "former-london",
   "metadata": {},
   "source": [
    "**Tester Class**\n",
    "1. The following code is provided for you so that you can check whether you are implementing **RandomGenerator** class correctly or not.  \n",
    "2. A very important thing to note here, I pass in a list or array into my **RandomGenerator** class and it should generate **N** number of non-duplicate numbers (or in this case, 20) for me and store it into the list or array I pass in.  \n",
    "3. I want those randomly generated numbers are stored inside the data structure I pass in so that I can use it in **Tester** class instead of **RandomGenerator** class.  \n",
    "4. You can imagine as I give you an empty bag and I tell you how many numbers I want, and your job is to put that much numbers inside my bag and return it to me. \n",
    "5. I am sorry for not clarify this question earlier.\n",
    "6. The following code should yield result of something like below:\n",
    "\n",
    "```\n",
    "Generate 20 non-duplicate integer within 0-100\n",
    "Linked List Implementation\n",
    "2 8 10 13 20 23 24 25 32 36 46 51 55 59 60 64 71 83 96 98 \n",
    "Array Implementation\n",
    "0 5 13 29 31 37 38 46 48 52 60 61 62 65 66 74 77 81 86 95 \n",
    "```\n"
   ]
  },
  {
   "cell_type": "code",
   "execution_count": 12,
   "id": "curious-marketing",
   "metadata": {},
   "outputs": [
    {
     "name": "stdout",
     "output_type": "stream",
     "text": [
      "Generate 20 non-duplicate integer within 0-100\n",
      "Linked List Implementation\n",
      "2 8 10 13 20 23 24 25 32 36 46 51 55 59 60 64 71 83 96 98 \n",
      "Array Implementation\n",
      "0 5 13 29 31 37 38 46 48 52 60 61 62 65 66 74 77 81 86 95 \n"
     ]
    }
   ],
   "source": [
    "int N = 20;\n",
    "System.out.println(\"Generate \"+N+\" non-duplicate integer within 0-100\");\n",
    "\n",
    "LinkedList<Integer> list = new LinkedList();\n",
    "RandomGenerator<LinkedList<Integer>> rand = new RandomGenerator(list, N);\n",
    "System.out.println(\"Linked List Implementation\");\n",
    "for(Integer value: list)\n",
    "    System.out.print(value+\" \");\n",
    "System.out.println(\"\");\n",
    "\n",
    "Integer[] array = new Integer[N];\n",
    "RandomGenerator<Integer[]> rand2 = new RandomGenerator(array, N);\n",
    "System.out.println(\"Array Implementation\");\n",
    "for(Integer value: array)\n",
    "    System.out.print(value+\" \");\n",
    "System.out.println(\"\");"
   ]
  }
 ],
 "metadata": {
  "kernelspec": {
   "display_name": "Java",
   "language": "java",
   "name": "java"
  },
  "language_info": {
   "codemirror_mode": "java",
   "file_extension": ".jshell",
   "mimetype": "text/x-java-source",
   "name": "Java",
   "pygments_lexer": "java",
   "version": "11.0.9+11"
  }
 },
 "nbformat": 4,
 "nbformat_minor": 5
}
