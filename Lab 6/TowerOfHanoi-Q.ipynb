{
 "cells": [
  {
   "cell_type": "markdown",
   "id": "european-aging",
   "metadata": {},
   "source": [
    "## Tower of Hanoi\n",
    "The Tower of Hanoi is a mathematical game or puzzle. It consists of three rods, and a number of disks of different sizes which can slide onto any rod. The puzzle starts with the disks in a neat stack in ascending order of size on one rod, the smallest at\n",
    "the top, thus making a conical shape. \n",
    "\n",
    "The objective of the puzzle is to move the entire stack to another rod, obeying the following rules:\n",
    "1. Only one disk may be moved at a time.\n",
    "2. Each move consists of taking the upper disk from one of the rods and sliding it onto another rod, on top of the other disks that may already be present on that rod.\n",
    "3. No disk may be placed on top of a smaller disk.\n",
    "\n",
    "You are required to write the source code using Java syntax to solve Tower of Hanoi Problem using stacks data structure."
   ]
  },
  {
   "cell_type": "markdown",
   "id": "unlikely-credit",
   "metadata": {},
   "source": [
    "![alt text](toh-2.png \"n=2\")"
   ]
  },
  {
   "cell_type": "markdown",
   "id": "assured-passing",
   "metadata": {},
   "source": [
    "**Algorithm**\n",
    "1. Move n-1 disks from Source to Aux\n",
    "2. Move nth disk from Source to Dest\n",
    "3. Move n-1 disks from Aux to Dest"
   ]
  },
  {
   "cell_type": "markdown",
   "id": "charged-learning",
   "metadata": {},
   "source": [
    "![alt text](toh-3.png \"n=3\")"
   ]
  },
  {
   "cell_type": "code",
   "execution_count": 2,
   "id": "cordless-football",
   "metadata": {},
   "outputs": [],
   "source": [
    "import java.util.*;"
   ]
  },
  {
   "cell_type": "code",
   "execution_count": 3,
   "id": "special-imagination",
   "metadata": {},
   "outputs": [],
   "source": [
    "public static int N;\n",
    "public static Stack<Integer>[] tower = new Stack[4];"
   ]
  },
  {
   "cell_type": "code",
   "execution_count": 4,
   "id": "future-leadership",
   "metadata": {},
   "outputs": [],
   "source": [
    "public static void display() {\n",
    "    System.out.println(\" A | B | C\");\n",
    "    System.out.println(\"‐‐‐‐‐‐‐‐‐‐‐‐‐‐‐\");\n",
    "    for(int i = N - 1; i >= 0; i--) {\n",
    "        String d1 = \" \", d2 = \" \", d3 = \" \";\n",
    "        try {\n",
    "            d1 = String.valueOf(tower[1].get(i));\n",
    "        } catch (Exception e){}\n",
    "        try {\n",
    "            d2 = String.valueOf(tower[2].get(i));\n",
    "        } catch(Exception e){}\n",
    "        try {\n",
    "            d3 = String.valueOf(tower[3].get(i));\n",
    "        } catch (Exception e){}\n",
    "        System.out.println(\" \"+d1+\" | \"+d2+\" | \"+d3);\n",
    "    }\n",
    "    System.out.println(\"\\n\");\n",
    "}\n",
    "\n",
    "public static void toh(int n) {\n",
    "    // implementation here\n",
    "}\n",
    "\n",
    "public static void move(int n, int a, int b, int c) {\n",
    "    // implementation here\n",
    "}\n"
   ]
  },
  {
   "cell_type": "code",
   "execution_count": 5,
   "id": "another-boating",
   "metadata": {},
   "outputs": [
    {
     "name": "stdout",
     "output_type": "stream",
     "text": [
      "Enter number of disks\n"
     ]
    },
    {
     "name": "stdin",
     "output_type": "stream",
     "text": [
      " 3\n"
     ]
    },
    {
     "name": "stdout",
     "output_type": "stream",
     "text": [
      " A | B | C\n",
      "‐‐‐‐‐‐‐‐‐‐‐‐‐‐‐\n",
      " 1 |   |  \n",
      " 2 |   |  \n",
      " 3 |   |  \n",
      "\n",
      "\n",
      " A | B | C\n",
      "‐‐‐‐‐‐‐‐‐‐‐‐‐‐‐\n",
      "   |   |  \n",
      " 2 |   |  \n",
      " 3 |   | 1\n",
      "\n",
      "\n",
      " A | B | C\n",
      "‐‐‐‐‐‐‐‐‐‐‐‐‐‐‐\n",
      "   |   |  \n",
      "   |   |  \n",
      " 3 | 2 | 1\n",
      "\n",
      "\n",
      " A | B | C\n",
      "‐‐‐‐‐‐‐‐‐‐‐‐‐‐‐\n",
      "   |   |  \n",
      "   | 1 |  \n",
      " 3 | 2 |  \n",
      "\n",
      "\n",
      " A | B | C\n",
      "‐‐‐‐‐‐‐‐‐‐‐‐‐‐‐\n",
      "   |   |  \n",
      "   | 1 |  \n",
      "   | 2 | 3\n",
      "\n",
      "\n",
      " A | B | C\n",
      "‐‐‐‐‐‐‐‐‐‐‐‐‐‐‐\n",
      "   |   |  \n",
      "   |   |  \n",
      " 1 | 2 | 3\n",
      "\n",
      "\n",
      " A | B | C\n",
      "‐‐‐‐‐‐‐‐‐‐‐‐‐‐‐\n",
      "   |   |  \n",
      "   |   | 2\n",
      " 1 |   | 3\n",
      "\n",
      "\n",
      " A | B | C\n",
      "‐‐‐‐‐‐‐‐‐‐‐‐‐‐‐\n",
      "   |   | 1\n",
      "   |   | 2\n",
      "   |   | 3\n",
      "\n",
      "\n"
     ]
    }
   ],
   "source": [
    "Scanner scan = new Scanner(System.in);\n",
    "tower[1] = new Stack<Integer>();\n",
    "tower[2] = new Stack<Integer>();\n",
    "tower[3] = new Stack<Integer>();\n",
    "/* Accepting number of disks */\n",
    "System.out.println(\"Enter number of disks\");\n",
    "int num = scan.nextInt();\n",
    "N = num;\n",
    "toh(num);"
   ]
  },
  {
   "cell_type": "code",
   "execution_count": null,
   "id": "theoretical-devices",
   "metadata": {},
   "outputs": [],
   "source": []
  }
 ],
 "metadata": {
  "kernelspec": {
   "display_name": "Java",
   "language": "java",
   "name": "java"
  },
  "language_info": {
   "codemirror_mode": "java",
   "file_extension": ".jshell",
   "mimetype": "text/x-java-source",
   "name": "Java",
   "pygments_lexer": "java",
   "version": "11.0.9+11"
  }
 },
 "nbformat": 4,
 "nbformat_minor": 5
}
